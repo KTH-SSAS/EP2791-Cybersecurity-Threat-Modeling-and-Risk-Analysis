{
 "cells": [
  {
   "cell_type": "code",
   "execution_count": 1,
   "id": "f2c851c9",
   "metadata": {},
   "outputs": [],
   "source": [
    "import pandas as pd\n",
    "import seaborn as sn \n",
    "import matplotlib.pyplot as plt\n",
    "import numpy as np\n",
    "from sklearn.decomposition import PCA\n",
    "from sklearn.preprocessing import MinMaxScaler\n",
    "from sklearn.preprocessing import MaxAbsScaler\n",
    "from scipy.stats import gmean\n",
    "from sklearn.metrics.pairwise import euclidean_distances"
   ]
  },
  {
   "cell_type": "code",
   "execution_count": 2,
   "id": "31369d0b",
   "metadata": {
    "scrolled": false
   },
   "outputs": [
    {
     "name": "stdout",
     "output_type": "stream",
     "text": [
      "Parameter Concern for collateral damage (Attacker) Risk tolerance (Attacker)  \\\n",
      "ABC1                                           mid                  mid/high   \n",
      "ABC2                                           mid                  mid/high   \n",
      "ABC3                                           low                      high   \n",
      "ABC4                                      mid/high                   low/mid   \n",
      "ABC5                                           low                      high   \n",
      "ABC6                                           low                      high   \n",
      "ABC7                                           mid                  mid/high   \n",
      "ABC8                                           mid                  mid/high   \n",
      "ABC9                                           low                      high   \n",
      "ABC10                                     mid/high                   low/mid   \n",
      "ABC11                                          low                      high   \n",
      "\n",
      "Parameter Ability to repudiate Perceived deterrence Perceived ease of attack  \\\n",
      "ABC1                   low/mid                  low                      mid   \n",
      "ABC2                       low                  low                      low   \n",
      "ABC3                  mid/high                  mid                      low   \n",
      "ABC4                      high                  mid                      mid   \n",
      "ABC5                      high                  mid                      mid   \n",
      "ABC6                      high                  mid                      mid   \n",
      "ABC7                      high                  mid                     high   \n",
      "ABC8                       mid                  mid                      low   \n",
      "ABC9                       mid                  mid                      low   \n",
      "ABC10                      mid                  mid                     high   \n",
      "ABC11                      low                 high                      low   \n",
      "\n",
      "Parameter Perceived benefit of success  \n",
      "ABC1                               mid  \n",
      "ABC2                               mid  \n",
      "ABC3                               mid  \n",
      "ABC4                          mid/high  \n",
      "ABC5                              high  \n",
      "ABC6                              high  \n",
      "ABC7                              high  \n",
      "ABC8                               low  \n",
      "ABC9                               low  \n",
      "ABC10                              mid  \n",
      "ABC11                             high  \n"
     ]
    }
   ],
   "source": [
    "df = pd.read_excel(r'/Users/katushka/Downloads/Bok.xlsx',index_col=0) #importing dataset\n",
    "df = df.T #dataset transposing\n",
    "print(df)"
   ]
  },
  {
   "cell_type": "code",
   "execution_count": 3,
   "id": "40eb94c6",
   "metadata": {},
   "outputs": [
    {
     "name": "stdout",
     "output_type": "stream",
     "text": [
      "Parameter  Concern for collateral damage (Attacker)  \\\n",
      "ABC1                                              2   \n",
      "ABC2                                              2   \n",
      "ABC3                                              0   \n",
      "ABC4                                              3   \n",
      "ABC5                                              0   \n",
      "ABC6                                              0   \n",
      "ABC7                                              2   \n",
      "ABC8                                              2   \n",
      "ABC9                                              0   \n",
      "ABC10                                             3   \n",
      "ABC11                                             0   \n",
      "\n",
      "Parameter  Risk tolerance (Attacker)  Ability to repudiate  \\\n",
      "ABC1                               3                     1   \n",
      "ABC2                               3                     0   \n",
      "ABC3                               4                     3   \n",
      "ABC4                               1                     4   \n",
      "ABC5                               4                     4   \n",
      "ABC6                               4                     4   \n",
      "ABC7                               3                     4   \n",
      "ABC8                               3                     2   \n",
      "ABC9                               4                     2   \n",
      "ABC10                              1                     2   \n",
      "ABC11                              4                     0   \n",
      "\n",
      "Parameter  Perceived deterrence  Perceived ease of attack  \\\n",
      "ABC1                          0                         2   \n",
      "ABC2                          0                         0   \n",
      "ABC3                          2                         0   \n",
      "ABC4                          2                         2   \n",
      "ABC5                          2                         2   \n",
      "ABC6                          2                         2   \n",
      "ABC7                          2                         4   \n",
      "ABC8                          2                         0   \n",
      "ABC9                          2                         0   \n",
      "ABC10                         2                         4   \n",
      "ABC11                         4                         0   \n",
      "\n",
      "Parameter  Perceived benefit of success  \n",
      "ABC1                                  2  \n",
      "ABC2                                  2  \n",
      "ABC3                                  2  \n",
      "ABC4                                  3  \n",
      "ABC5                                  4  \n",
      "ABC6                                  4  \n",
      "ABC7                                  4  \n",
      "ABC8                                  0  \n",
      "ABC9                                  0  \n",
      "ABC10                                 2  \n",
      "ABC11                                 4  \n"
     ]
    }
   ],
   "source": [
    "df.replace(to_replace = 'low', value = 0, inplace = True)\n",
    "df.replace(to_replace = 'low/mid', value = 1, inplace = True)\n",
    "df.replace(to_replace = 'mid', value = 2, inplace = True)\n",
    "df.replace(to_replace = 'mid/high', value = 3, inplace = True)\n",
    "df.replace(to_replace = 'high', value = 4, inplace = True)\n",
    "\n",
    "#encoding descriptive values in dataset with numeric ones\n",
    "#chosen range does not affect the final result, so, the values can be scale from 0 to 4 (as in the example), from -2 to 2, from 1 to 5 etc. The scale is up to you.\n",
    "\n",
    "print(df)"
   ]
  },
  {
   "cell_type": "code",
   "execution_count": 4,
   "id": "85f3a961",
   "metadata": {},
   "outputs": [
    {
     "data": {
      "image/png": "[encoded data removed]",
      "text/plain": [
       "<Figure size 640x480 with 2 Axes>"
      ]
     },
     "metadata": {},
     "output_type": "display_data"
    }
   ],
   "source": [
    "hm = sn.heatmap(data = df) #visualization of dataset as a heatmap\n",
    "\n",
    "plt.show()"
   ]
  },
  {
   "cell_type": "code",
   "execution_count": 5,
   "id": "7bd1bb52",
   "metadata": {},
   "outputs": [
    {
     "name": "stdout",
     "output_type": "stream",
     "text": [
      "[[0.66666667 0.66666667 0.25       0.         0.5        0.5       ]\n",
      " [0.66666667 0.66666667 0.         0.         0.         0.5       ]\n",
      " [0.         1.         0.75       0.5        0.         0.5       ]\n",
      " [1.         0.         1.         0.5        0.5        0.75      ]\n",
      " [0.         1.         1.         0.5        0.5        1.        ]\n",
      " [0.         1.         1.         0.5        0.5        1.        ]\n",
      " [0.66666667 0.66666667 1.         0.5        1.         1.        ]\n",
      " [0.66666667 0.66666667 0.5        0.5        0.         0.        ]\n",
      " [0.         1.         0.5        0.5        0.         0.        ]\n",
      " [1.         0.         0.5        0.5        1.         0.5       ]\n",
      " [0.         1.         0.         1.         0.         1.        ]]\n"
     ]
    }
   ],
   "source": [
    "df_scaled = MinMaxScaler().fit_transform(df) #scaling dataset to the diapason (0,1)\n",
    "print(df_scaled)"
   ]
  },
  {
   "cell_type": "code",
   "execution_count": 6,
   "id": "121dde03",
   "metadata": {},
   "outputs": [
    {
     "name": "stdout",
     "output_type": "stream",
     "text": [
      "[[ 0.22522399  0.39200654]\n",
      " [-0.06568005  0.7262422 ]\n",
      " [-0.6000179  -0.08140486]\n",
      " [ 0.89270476 -0.07291575]\n",
      " [-0.28065369 -0.71062483]\n",
      " [-0.28065369 -0.71062483]\n",
      " [ 0.57052215 -0.63372024]\n",
      " [-0.06820626  0.62471971]\n",
      " [-0.67164654  0.35639032]\n",
      " [ 1.03987331  0.16877336]\n",
      " [-0.7614661  -0.05884161]]\n"
     ]
    }
   ],
   "source": [
    "pca = PCA(n_components=2) #creating PCA instance with reduction to 2 dimensions\n",
    "pca_features = pca.fit_transform(df_scaled) #apply PCA to the dataset\n",
    "print(pca_features)"
   ]
  },
  {
   "cell_type": "code",
   "execution_count": 7,
   "id": "b85451a1",
   "metadata": {},
   "outputs": [
    {
     "name": "stdout",
     "output_type": "stream",
     "text": [
      "Shape before PCA:  (11, 6)\n",
      "Shape after PCA:  (11, 2)\n"
     ]
    }
   ],
   "source": [
    "print('Shape before PCA: ', df_scaled.shape) #shape of original dataset\n",
    "print('Shape after PCA: ', pca_features.shape) #shape of reducted dataset"
   ]
  },
  {
   "cell_type": "code",
   "execution_count": 8,
   "id": "aed3525d",
   "metadata": {},
   "outputs": [
    {
     "name": "stdout",
     "output_type": "stream",
     "text": [
      "[[ 0.21658791  0.53977383]\n",
      " [-0.06316158  1.        ]\n",
      " [-0.57701057 -0.11209051]\n",
      " [ 0.85847454 -0.10040142]\n",
      " [-0.26989219 -0.97849565]\n",
      " [-0.26989219 -0.97849565]\n",
      " [ 0.54864583 -0.87260178]\n",
      " [-0.06559094  0.86020849]\n",
      " [-0.64589266  0.49073205]\n",
      " [ 1.          0.23239267]\n",
      " [-0.73226814 -0.08102202]]\n"
     ]
    }
   ],
   "source": [
    "pca_features = MaxAbsScaler().fit_transform(pca_features) #scale and print dataset after PCA\n",
    "\n",
    "print(pca_features)"
   ]
  },
  {
   "cell_type": "code",
   "execution_count": 9,
   "id": "1eba359e",
   "metadata": {},
   "outputs": [
    {
     "name": "stdout",
     "output_type": "stream",
     "text": [
      "            PC1       PC2\n",
      "ABC1   0.216588  0.539774\n",
      "ABC2  -0.063162  1.000000\n",
      "ABC3  -0.577011 -0.112091\n",
      "ABC4   0.858475 -0.100401\n",
      "ABC5  -0.269892 -0.978496\n",
      "ABC6  -0.269892 -0.978496\n",
      "ABC7   0.548646 -0.872602\n",
      "ABC8  -0.065591  0.860208\n",
      "ABC9  -0.645893  0.490732\n",
      "ABC10  1.000000  0.232393\n",
      "ABC11 -0.732268 -0.081022\n"
     ]
    }
   ],
   "source": [
    "df_pca = pd.DataFrame(\n",
    "    data=pca_features, \n",
    "    columns=['PC1', 'PC2'],\n",
    "    index = df.index.values.tolist()) #adding column and raw names and creating pandas dataframe\n",
    "\n",
    "print(df_pca)"
   ]
  },
  {
   "cell_type": "code",
   "execution_count": 10,
   "id": "1297b25b",
   "metadata": {},
   "outputs": [
    {
     "data": {
      "text/plain": [
       "<Axes: xlabel='PC1', ylabel='PC2'>"
      ]
     },
     "execution_count": 10,
     "metadata": {},
     "output_type": "execute_result"
    },
    {
     "data": {
      "image/png": "[encoded data removed]",
      "text/plain": [
       "<Figure size 640x480 with 1 Axes>"
      ]
     },
     "metadata": {},
     "output_type": "display_data"
    }
   ],
   "source": [
    "df_pca.plot.scatter(x=\"PC1\", y=\"PC2\", grid=True) #creating plot from the dataset\n",
    "#each point represent the abuse case with 2 coordinates: principal component 1 (PC1) and principal component 2 (PC2)"
   ]
  },
  {
   "cell_type": "code",
   "execution_count": 11,
   "id": "21d19bce",
   "metadata": {},
   "outputs": [
    {
     "name": "stdout",
     "output_type": "stream",
     "text": [
      "[[1.96239385]\n",
      " [2.20854391]\n",
      " [0.98351579]\n",
      " [2.06475306]\n",
      " [0.73042443]\n",
      " [0.73042443]\n",
      " [1.55387715]\n",
      " [2.08170506]\n",
      " [1.53221214]\n",
      " [2.34921086]\n",
      " [0.95718382]\n",
      " [2.82842712]]\n"
     ]
    }
   ],
   "source": [
    "euclidean_dist = euclidean_distances(df_pca, [[-1, -1]]) #calculate euclidean distances from the point to the point (-1,-1), which represent 0% probability of action\n",
    "\n",
    "euclidean_dist = np.append(euclidean_dist, euclidean_distances([[1,1]], [[-1, -1]]),axis=0) #create an array of euclidean distances for each abuse case\n",
    "\n",
    "print(euclidean_dist)"
   ]
  },
  {
   "cell_type": "code",
   "execution_count": 12,
   "id": "578d71be",
   "metadata": {},
   "outputs": [
    {
     "name": "stdout",
     "output_type": "stream",
     "text": [
      "[[0.693811  ]\n",
      " [0.78083819]\n",
      " [0.34772534]\n",
      " [0.73000045]\n",
      " [0.25824403]\n",
      " [0.25824403]\n",
      " [0.54937854]\n",
      " [0.73599388]\n",
      " [0.5417188 ]\n",
      " [0.83057147]\n",
      " [0.33841559]\n",
      " [1.        ]]\n"
     ]
    }
   ],
   "source": [
    "euclidean_scaled = MaxAbsScaler().fit_transform(euclidean_dist) #scaling euclidean distances array\n",
    "print(euclidean_scaled)"
   ]
  },
  {
   "cell_type": "code",
   "execution_count": 13,
   "id": "5a85d339",
   "metadata": {},
   "outputs": [
    {
     "name": "stdout",
     "output_type": "stream",
     "text": [
      "                      PoA\n",
      "ABC1             0.693811\n",
      "ABC2             0.780838\n",
      "ABC3             0.347725\n",
      "ABC4             0.730000\n",
      "ABC5             0.258244\n",
      "ABC6             0.258244\n",
      "ABC7             0.549379\n",
      "ABC8             0.735994\n",
      "ABC9             0.541719\n",
      "ABC10            0.830571\n",
      "ABC11            0.338416\n",
      "max_probability  1.000000\n"
     ]
    }
   ],
   "source": [
    "index_list = df.index.values.tolist() \n",
    "index_list.append('max_probability') #add maximum probablity of 100% to the dataset as a threshold value\n",
    "\n",
    "df_euclidean_scaled = pd.DataFrame(\n",
    "    data=euclidean_scaled, \n",
    "    columns=['PoA'],\n",
    "    index = index_list) #create pandas dataframe for euclidean distances\n",
    "\n",
    "print(df_euclidean_scaled)"
   ]
  },
  {
   "cell_type": "code",
   "execution_count": 14,
   "id": "ee8c0fd3",
   "metadata": {},
   "outputs": [
    {
     "data": {
      "text/html": [
       "<style type=\"text/css\">\n",
       "</style>\n",
       "<table id=\"T_d557b\">\n",
       "  <thead>\n",
       "    <tr>\n",
       "      <th class=\"blank level0\" >&nbsp;</th>\n",
       "      <th id=\"T_d557b_level0_col0\" class=\"col_heading level0 col0\" >PoA</th>\n",
       "    </tr>\n",
       "  </thead>\n",
       "  <tbody>\n",
       "    <tr>\n",
       "      <th id=\"T_d557b_level0_row0\" class=\"row_heading level0 row0\" >ABC1</th>\n",
       "      <td id=\"T_d557b_row0_col0\" class=\"data row0 col0\" >69.38%</td>\n",
       "    </tr>\n",
       "    <tr>\n",
       "      <th id=\"T_d557b_level0_row1\" class=\"row_heading level0 row1\" >ABC2</th>\n",
       "      <td id=\"T_d557b_row1_col0\" class=\"data row1 col0\" >78.08%</td>\n",
       "    </tr>\n",
       "    <tr>\n",
       "      <th id=\"T_d557b_level0_row2\" class=\"row_heading level0 row2\" >ABC3</th>\n",
       "      <td id=\"T_d557b_row2_col0\" class=\"data row2 col0\" >34.77%</td>\n",
       "    </tr>\n",
       "    <tr>\n",
       "      <th id=\"T_d557b_level0_row3\" class=\"row_heading level0 row3\" >ABC4</th>\n",
       "      <td id=\"T_d557b_row3_col0\" class=\"data row3 col0\" >73.00%</td>\n",
       "    </tr>\n",
       "    <tr>\n",
       "      <th id=\"T_d557b_level0_row4\" class=\"row_heading level0 row4\" >ABC5</th>\n",
       "      <td id=\"T_d557b_row4_col0\" class=\"data row4 col0\" >25.82%</td>\n",
       "    </tr>\n",
       "    <tr>\n",
       "      <th id=\"T_d557b_level0_row5\" class=\"row_heading level0 row5\" >ABC6</th>\n",
       "      <td id=\"T_d557b_row5_col0\" class=\"data row5 col0\" >25.82%</td>\n",
       "    </tr>\n",
       "    <tr>\n",
       "      <th id=\"T_d557b_level0_row6\" class=\"row_heading level0 row6\" >ABC7</th>\n",
       "      <td id=\"T_d557b_row6_col0\" class=\"data row6 col0\" >54.94%</td>\n",
       "    </tr>\n",
       "    <tr>\n",
       "      <th id=\"T_d557b_level0_row7\" class=\"row_heading level0 row7\" >ABC8</th>\n",
       "      <td id=\"T_d557b_row7_col0\" class=\"data row7 col0\" >73.60%</td>\n",
       "    </tr>\n",
       "    <tr>\n",
       "      <th id=\"T_d557b_level0_row8\" class=\"row_heading level0 row8\" >ABC9</th>\n",
       "      <td id=\"T_d557b_row8_col0\" class=\"data row8 col0\" >54.17%</td>\n",
       "    </tr>\n",
       "    <tr>\n",
       "      <th id=\"T_d557b_level0_row9\" class=\"row_heading level0 row9\" >ABC10</th>\n",
       "      <td id=\"T_d557b_row9_col0\" class=\"data row9 col0\" >83.06%</td>\n",
       "    </tr>\n",
       "    <tr>\n",
       "      <th id=\"T_d557b_level0_row10\" class=\"row_heading level0 row10\" >ABC11</th>\n",
       "      <td id=\"T_d557b_row10_col0\" class=\"data row10 col0\" >33.84%</td>\n",
       "    </tr>\n",
       "    <tr>\n",
       "      <th id=\"T_d557b_level0_row11\" class=\"row_heading level0 row11\" >max_probability</th>\n",
       "      <td id=\"T_d557b_row11_col0\" class=\"data row11 col0\" >100.00%</td>\n",
       "    </tr>\n",
       "  </tbody>\n",
       "</table>\n"
      ],
      "text/plain": [
       "<pandas.io.formats.style.Styler at 0x1401d29d0>"
      ]
     },
     "execution_count": 14,
     "metadata": {},
     "output_type": "execute_result"
    }
   ],
   "source": [
    "df_euclidean_scaled .style.format({'PoA': \"{:.2%}\"}) #transform values into percentages"
   ]
  },
  {
   "cell_type": "code",
   "execution_count": null,
   "id": "66d70064",
   "metadata": {},
   "outputs": [],
   "source": []
  }
 ],
 "metadata": {
  "kernelspec": {
   "display_name": "Python 3 (ipykernel)",
   "language": "python",
   "name": "python3"
  },
  "language_info": {
   "codemirror_mode": {
    "name": "ipython",
    "version": 3
   },
   "file_extension": ".py",
   "mimetype": "text/x-python",
   "name": "python",
   "nbconvert_exporter": "python",
   "pygments_lexer": "ipython3",
   "version": "3.11.5"
  }
 },
 "nbformat": 4,
 "nbformat_minor": 5
}
